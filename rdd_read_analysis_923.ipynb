{
 "cells": [
  {
   "cell_type": "markdown",
   "metadata": {},
   "source": [
    "## RDD: text reading and analysis with map(), flatMap() and filter()"
   ]
  },
  {
   "cell_type": "markdown",
   "metadata": {},
   "source": [
    "### Read and process textfile from file directory"
   ]
  },
  {
   "cell_type": "code",
   "execution_count": 82,
   "metadata": {},
   "outputs": [],
   "source": [
    "rdd = sc.textFile(\"./Downloads/history.csv\")"
   ]
  },
  {
   "cell_type": "code",
   "execution_count": 117,
   "metadata": {},
   "outputs": [
    {
     "data": {
      "text/plain": [
       "['LAT;;;;;44.9800;44.9800;44.9800;44.9800']"
      ]
     },
     "execution_count": 117,
     "metadata": {},
     "output_type": "execute_result"
    }
   ],
   "source": [
    "rdd.take(1)"
   ]
  },
  {
   "cell_type": "code",
   "execution_count": 107,
   "metadata": {},
   "outputs": [],
   "source": [
    "rdd2 = sc.textFile(\"./Downloads/DataEngineer.txt\")"
   ]
  },
  {
   "cell_type": "code",
   "execution_count": 108,
   "metadata": {},
   "outputs": [
    {
     "data": {
      "text/plain": [
       "['   Binggang Liu',\n",
       " ' (612) 801-xxxx',\n",
       " '______________________________________________________________________',\n",
       " 'SUMMARY',\n",
       " '* Passionate data engineer with multiple skills in cloud computing, data science, and programming']"
      ]
     },
     "execution_count": 108,
     "metadata": {},
     "output_type": "execute_result"
    }
   ],
   "source": [
    "rdd2.take(5)"
   ]
  },
  {
   "cell_type": "markdown",
   "metadata": {},
   "source": [
    "### map() and flatMap()"
   ]
  },
  {
   "cell_type": "code",
   "execution_count": 113,
   "metadata": {},
   "outputs": [],
   "source": [
    "def to_lower(lines):\n",
    "    lines = lines.lower()\n",
    "    lines = lines.split()\n",
    "    return lines\n",
    "\n",
    "rdd2_map = rdd2.map(to_lower)"
   ]
  },
  {
   "cell_type": "code",
   "execution_count": 114,
   "metadata": {},
   "outputs": [
    {
     "data": {
      "text/plain": [
       "[['binggang', 'liu'],\n",
       " ['(612)', '801-xxxx'],\n",
       " ['______________________________________________________________________'],\n",
       " ['summary'],\n",
       " ['*',\n",
       "  'passionate',\n",
       "  'data',\n",
       "  'engineer',\n",
       "  'with',\n",
       "  'multiple',\n",
       "  'skills',\n",
       "  'in',\n",
       "  'cloud',\n",
       "  'computing,',\n",
       "  'data',\n",
       "  'science,',\n",
       "  'and',\n",
       "  'programming']]"
      ]
     },
     "execution_count": 114,
     "metadata": {},
     "output_type": "execute_result"
    }
   ],
   "source": [
    "rdd2_map.take(5)"
   ]
  },
  {
   "cell_type": "code",
   "execution_count": 115,
   "metadata": {},
   "outputs": [],
   "source": [
    "rdd2_flatMap = rdd2.flatMap(to_lower)"
   ]
  },
  {
   "cell_type": "code",
   "execution_count": 118,
   "metadata": {},
   "outputs": [
    {
     "data": {
      "text/plain": [
       "['binggang',\n",
       " 'liu',\n",
       " '(612)',\n",
       " '801-xxxx',\n",
       " '______________________________________________________________________']"
      ]
     },
     "execution_count": 118,
     "metadata": {},
     "output_type": "execute_result"
    }
   ],
   "source": [
    "rdd2_flatMap.take(5)"
   ]
  },
  {
   "cell_type": "markdown",
   "metadata": {},
   "source": [
    "### filter()"
   ]
  },
  {
   "cell_type": "code",
   "execution_count": 123,
   "metadata": {},
   "outputs": [
    {
     "data": {
      "text/plain": [
       "['science', 'solver,', 'spark,', 'sagemaker,', 'serverless', 'server,']"
      ]
     },
     "execution_count": 123,
     "metadata": {},
     "output_type": "execute_result"
    }
   ],
   "source": [
    "import re\n",
    "filterRDD = rdd2_flatMap.filter(lambda x: x.startswith('s'))\n",
    "filterRDD.distinct().take(6)"
   ]
  },
  {
   "cell_type": "code",
   "execution_count": null,
   "metadata": {},
   "outputs": [],
   "source": []
  },
  {
   "cell_type": "code",
   "execution_count": 130,
   "metadata": {},
   "outputs": [
    {
     "data": {
      "text/plain": [
       "[(43, 'and'),\n",
       " (28, '*'),\n",
       " (26, 'data'),\n",
       " (15, 'with'),\n",
       " (12, 'aws'),\n",
       " (11, 'for'),\n",
       " (8, 'to'),\n",
       " (7, 'in'),\n",
       " (6, 'of'),\n",
       " (5, 'use'),\n",
       " (5, 'process'),\n",
       " (5, 'analysis'),\n",
       " (5, 'a'),\n",
       " (4, 'analytics'),\n",
       " (4, 'redshift')]"
      ]
     },
     "execution_count": 130,
     "metadata": {},
     "output_type": "execute_result"
    }
   ],
   "source": [
    "rdd_mapped = rdd2_flatMap.map(lambda x: (x,1))\n",
    "rdd_grouped = rdd_mapped.groupByKey()\n",
    "rdd_frequency = rdd_grouped.mapValues(sum).map(lambda x: (x[1],x[0])).sortByKey(False)\n",
    "rdd_frequency.take(15)"
   ]
  },
  {
   "cell_type": "code",
   "execution_count": null,
   "metadata": {},
   "outputs": [],
   "source": []
  }
 ],
 "metadata": {
  "kernelspec": {
   "display_name": "Python 3",
   "language": "python",
   "name": "python3"
  },
  "language_info": {
   "codemirror_mode": {
    "name": "ipython",
    "version": 3
   },
   "file_extension": ".py",
   "mimetype": "text/x-python",
   "name": "python",
   "nbconvert_exporter": "python",
   "pygments_lexer": "ipython3",
   "version": "3.7.1"
  }
 },
 "nbformat": 4,
 "nbformat_minor": 2
}
