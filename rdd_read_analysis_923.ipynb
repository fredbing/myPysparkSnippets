{
 "cells": [
  {
   "cell_type": "markdown",
   "metadata": {},
   "source": [
    "## RDD: text reading and processing with map(), flatMap() and filter()"
   ]
  },
  {
   "cell_type": "markdown",
   "metadata": {},
   "source": [
    "### Read and process textfile from file directory"
   ]
  },
  {
   "cell_type": "code",
   "execution_count": 4,
   "metadata": {},
   "outputs": [
    {
     "data": {
      "text/plain": [
       "'/Users/binggangliu/gitprojects/myPysparkSnippets'"
      ]
     },
     "execution_count": 4,
     "metadata": {},
     "output_type": "execute_result"
    }
   ],
   "source": [
    "pwd"
   ]
  },
  {
   "cell_type": "code",
   "execution_count": 5,
   "metadata": {},
   "outputs": [],
   "source": [
    "rdd = sc.textFile(\"/Users/binggangliu/Downloads/history.csv\")"
   ]
  },
  {
   "cell_type": "code",
   "execution_count": 154,
   "metadata": {},
   "outputs": [
    {
     "data": {
      "text/plain": [
       "['LAT;;;;;44.9800;44.9800;44.9800;44.9800',\n",
       " 'LON;;;;;-93.2638;-93.2638;-93.2638;-93.2638']"
      ]
     },
     "execution_count": 154,
     "metadata": {},
     "output_type": "execute_result"
    }
   ],
   "source": [
    "rdd.take(2)"
   ]
  },
  {
   "cell_type": "markdown",
   "metadata": {},
   "source": [
    "sc.textFile() work for both csv and txt file"
   ]
  },
  {
   "cell_type": "code",
   "execution_count": 72,
   "metadata": {},
   "outputs": [
    {
     "data": {
      "text/plain": [
       "21001"
      ]
     },
     "execution_count": 72,
     "metadata": {},
     "output_type": "execute_result"
    }
   ],
   "source": [
    "rdd2 = sc.textFile(\"/Users/binggangliu/Downloads/BusinessPlan-v4.txt\")\n",
    "\n",
    "rdd2.count() #get number of rows in the rdd"
   ]
  },
  {
   "cell_type": "code",
   "execution_count": 98,
   "metadata": {},
   "outputs": [
    {
     "data": {
      "text/plain": [
       "['',\n",
       " '      ',\n",
       " '      Business Plan v-4',\n",
       " 'This business plan consists of a narrative and several financial spreadsheets. The narrative template is the body of the business plan. It contains more than 150 questions divided into several sections. Work through the sections in any order you like, except']"
      ]
     },
     "execution_count": 98,
     "metadata": {},
     "output_type": "execute_result"
    }
   ],
   "source": [
    "rdd2.take(4)"
   ]
  },
  {
   "cell_type": "code",
   "execution_count": 75,
   "metadata": {},
   "outputs": [
    {
     "data": {
      "text/plain": [
       "21001"
      ]
     },
     "execution_count": 75,
     "metadata": {},
     "output_type": "execute_result"
    }
   ],
   "source": [
    "rdd3 = sc.textFile(\"/Users/binggangliu/Downloads/BusinessPlan-v4.txt\", minPartitions=4)\n",
    "rdd3.count()"
   ]
  },
  {
   "cell_type": "code",
   "execution_count": 76,
   "metadata": {},
   "outputs": [
    {
     "data": {
      "text/plain": [
       "4"
      ]
     },
     "execution_count": 76,
     "metadata": {},
     "output_type": "execute_result"
    }
   ],
   "source": [
    "rdd3.getNumPartitions()"
   ]
  },
  {
   "cell_type": "markdown",
   "metadata": {},
   "source": [
    "### map() and flatMap()"
   ]
  },
  {
   "cell_type": "markdown",
   "metadata": {},
   "source": [
    "Define a function below to change all letters to lower case and split the line, then use this function for mapping with map() and flatMap() methods."
   ]
  },
  {
   "cell_type": "code",
   "execution_count": 110,
   "metadata": {},
   "outputs": [],
   "source": [
    "def to_lower_split(lines):\n",
    "    lines = lines.lower()\n",
    "    lines = lines.split()\n",
    "    return lines\n",
    "\n",
    "rdd3_split = rdd3.map(to_lower_split)"
   ]
  },
  {
   "cell_type": "code",
   "execution_count": 111,
   "metadata": {},
   "outputs": [
    {
     "data": {
      "text/plain": [
       "[[],\n",
       " [],\n",
       " ['business', 'plan', 'v-4'],\n",
       " ['this',\n",
       "  'business',\n",
       "  'plan',\n",
       "  'consists',\n",
       "  'of',\n",
       "  'a',\n",
       "  'narrative',\n",
       "  'and',\n",
       "  'several',\n",
       "  'financial',\n",
       "  'spreadsheets.',\n",
       "  'the',\n",
       "  'narrative',\n",
       "  'template',\n",
       "  'is',\n",
       "  'the',\n",
       "  'body',\n",
       "  'of',\n",
       "  'the',\n",
       "  'business',\n",
       "  'plan.',\n",
       "  'it',\n",
       "  'contains',\n",
       "  'more',\n",
       "  'than',\n",
       "  '150',\n",
       "  'questions',\n",
       "  'divided',\n",
       "  'into',\n",
       "  'several',\n",
       "  'sections.',\n",
       "  'work',\n",
       "  'through',\n",
       "  'the',\n",
       "  'sections',\n",
       "  'in',\n",
       "  'any',\n",
       "  'order',\n",
       "  'you',\n",
       "  'like,',\n",
       "  'except']]"
      ]
     },
     "execution_count": 111,
     "metadata": {},
     "output_type": "execute_result"
    }
   ],
   "source": [
    "rdd3_split.take(4)"
   ]
  },
  {
   "cell_type": "code",
   "execution_count": 121,
   "metadata": {},
   "outputs": [
    {
     "data": {
      "text/plain": [
       "21001"
      ]
     },
     "execution_count": 121,
     "metadata": {},
     "output_type": "execute_result"
    }
   ],
   "source": [
    "rdd3_split.count()"
   ]
  },
  {
   "cell_type": "markdown",
   "metadata": {},
   "source": [
    "Note that the rdds have the same number of rows (rdd3_split and rdd3), and have more rows after flatMapping (see below the row counts after applying flatMap()."
   ]
  },
  {
   "cell_type": "code",
   "execution_count": 112,
   "metadata": {},
   "outputs": [],
   "source": [
    "rdd3_split_flat = rdd3.flatMap(to_lower_split)"
   ]
  },
  {
   "cell_type": "code",
   "execution_count": 113,
   "metadata": {},
   "outputs": [
    {
     "data": {
      "text/plain": [
       "['business',\n",
       " 'plan',\n",
       " 'v-4',\n",
       " 'this',\n",
       " 'business',\n",
       " 'plan',\n",
       " 'consists',\n",
       " 'of',\n",
       " 'a',\n",
       " 'narrative']"
      ]
     },
     "execution_count": 113,
     "metadata": {},
     "output_type": "execute_result"
    }
   ],
   "source": [
    "rdd3_split_flat.take(10)"
   ]
  },
  {
   "cell_type": "code",
   "execution_count": 119,
   "metadata": {},
   "outputs": [
    {
     "data": {
      "text/plain": [
       "92760"
      ]
     },
     "execution_count": 119,
     "metadata": {},
     "output_type": "execute_result"
    }
   ],
   "source": [
    "rdd3_split_flat.count()"
   ]
  },
  {
   "cell_type": "markdown",
   "metadata": {},
   "source": [
    "### filter()"
   ]
  },
  {
   "cell_type": "code",
   "execution_count": 125,
   "metadata": {},
   "outputs": [
    {
     "data": {
      "text/plain": [
       "['money',\n",
       " 'matters',\n",
       " 'market.)',\n",
       " 'must',\n",
       " 'may',\n",
       " 'matrix,',\n",
       " 'methods,',\n",
       " 'matter',\n",
       " 'materials,',\n",
       " 'monthly']"
      ]
     },
     "execution_count": 125,
     "metadata": {},
     "output_type": "execute_result"
    }
   ],
   "source": [
    "import re\n",
    "filterRDD = rdd3_split_flat.filter(lambda x: x.startswith('m'))\n",
    "filterRDD.distinct().take(10)"
   ]
  },
  {
   "cell_type": "code",
   "execution_count": 106,
   "metadata": {},
   "outputs": [
    {
     "data": {
      "text/plain": [
       "[('business', 1),\n",
       " ('plan', 1),\n",
       " ('v-4', 1),\n",
       " ('this', 1),\n",
       " ('business', 1),\n",
       " ('plan', 1),\n",
       " ('consists', 1),\n",
       " ('of', 1),\n",
       " ('a', 1),\n",
       " ('narrative', 1)]"
      ]
     },
     "execution_count": 106,
     "metadata": {},
     "output_type": "execute_result"
    }
   ],
   "source": [
    "rdd_mapped = rdd3_split_flat.map(lambda x: (x,1))\n",
    "rdd_grouped = rdd_mapped.groupByKey()\n",
    "rdd_frequency = rdd_grouped.mapValues(sum).map(lambda x: (x[1],x[0])).sortByKey(False)\n",
    "rdd_mapped.take(10)\n"
   ]
  },
  {
   "cell_type": "code",
   "execution_count": 107,
   "metadata": {},
   "outputs": [
    {
     "data": {
      "text/plain": [
       "[('business', <pyspark.resultiterable.ResultIterable at 0x110c94668>),\n",
       " ('v-4', <pyspark.resultiterable.ResultIterable at 0x110c94908>),\n",
       " ('of', <pyspark.resultiterable.ResultIterable at 0x110c99588>),\n",
       " ('narrative', <pyspark.resultiterable.ResultIterable at 0x110c77940>),\n",
       " ('spreadsheets.', <pyspark.resultiterable.ResultIterable at 0x110c99710>)]"
      ]
     },
     "execution_count": 107,
     "metadata": {},
     "output_type": "execute_result"
    }
   ],
   "source": [
    "rdd_grouped.take(5)"
   ]
  },
  {
   "cell_type": "code",
   "execution_count": 109,
   "metadata": {},
   "outputs": [
    {
     "data": {
      "text/plain": [
       "[(3300, 'the'),\n",
       " (2940, 'you'),\n",
       " (2880, '�'),\n",
       " (2820, 'and'),\n",
       " (2700, 'your'),\n",
       " (2680, 'of'),\n",
       " (2180, 'to'),\n",
       " (1440, 'a'),\n",
       " (1220, 'in'),\n",
       " (1200, 'is'),\n",
       " (1080, 'do'),\n",
       " (1080, 'for'),\n",
       " (1000, 'or'),\n",
       " (900, 'what'),\n",
       " (760, 'are')]"
      ]
     },
     "execution_count": 109,
     "metadata": {},
     "output_type": "execute_result"
    }
   ],
   "source": [
    "rdd_frequency.take(15)"
   ]
  },
  {
   "cell_type": "code",
   "execution_count": 114,
   "metadata": {},
   "outputs": [
    {
     "data": {
      "text/plain": [
       "['business',\n",
       " 'plan',\n",
       " 'v-4',\n",
       " 'this',\n",
       " 'business',\n",
       " 'plan',\n",
       " 'consists',\n",
       " 'narrative',\n",
       " 'several',\n",
       " 'financial',\n",
       " 'spreadsheets.',\n",
       " 'narrative',\n",
       " 'template',\n",
       " 'body',\n",
       " 'business']"
      ]
     },
     "execution_count": 114,
     "metadata": {},
     "output_type": "execute_result"
    }
   ],
   "source": [
    "skipwords = ['the','you','�','and','your','of','to','a','in','is','do','for','or']\n",
    "new_rdd = rdd3_split_flat.filter(lambda x: x not in skipwords)\n",
    "new_rdd.take(15)"
   ]
  },
  {
   "cell_type": "code",
   "execution_count": 115,
   "metadata": {},
   "outputs": [
    {
     "data": {
      "text/plain": [
       "66240"
      ]
     },
     "execution_count": 115,
     "metadata": {},
     "output_type": "execute_result"
    }
   ],
   "source": [
    "new_rdd.count()"
   ]
  },
  {
   "cell_type": "code",
   "execution_count": 149,
   "metadata": {},
   "outputs": [],
   "source": [
    "new_rdd2 = new_rdd.distinct()"
   ]
  },
  {
   "cell_type": "code",
   "execution_count": 150,
   "metadata": {},
   "outputs": [
    {
     "data": {
      "text/plain": [
       "1494"
      ]
     },
     "execution_count": 150,
     "metadata": {},
     "output_type": "execute_result"
    }
   ],
   "source": [
    "new_rdd2.count()"
   ]
  },
  {
   "cell_type": "code",
   "execution_count": 151,
   "metadata": {},
   "outputs": [
    {
     "name": "stdout",
     "output_type": "stream",
     "text": [
      "bus ['business', 'business.', 'business:', 'business,', 'businesses,', 'businesses.', 'business?', 'businesses']\n",
      "v-4 ['v-4']\n",
      "150 ['150']\n",
      "whe ['when', 'where', 'whether', 'when.']\n",
      "are ['are', 'areas,', 'area.', 'areas']\n",
      "val ['value', 'valuable']\n",
      "res ['research', 'research:', 'restaurants)', 'research,', 'responsible', 'research.']\n",
      "thi ['think', 'thinking', 'this', 'things']\n",
      "but ['but']\n",
      "tit ['titled']\n"
     ]
    }
   ],
   "source": [
    "new_rdd3 = new_rdd2.groupBy(lambda w: w[0:3])\n",
    "#print[(k, list(v)) for (k, v) in new_rdd3.take(10)]\n",
    "for key, value in new_rdd3.take(10):\n",
    "    print(key, list(value))"
   ]
  },
  {
   "cell_type": "code",
   "execution_count": 152,
   "metadata": {},
   "outputs": [
    {
     "data": {
      "text/plain": [
       "150"
      ]
     },
     "execution_count": 152,
     "metadata": {},
     "output_type": "execute_result"
    }
   ],
   "source": [
    "sample_rdd = new_rdd2.sample(False, 0.1)\n",
    "sample_rdd.count()"
   ]
  },
  {
   "cell_type": "markdown",
   "metadata": {},
   "source": [
    "Make a sample rdd (10% of the original data size)"
   ]
  },
  {
   "cell_type": "code",
   "execution_count": 153,
   "metadata": {},
   "outputs": [
    {
     "data": {
      "text/plain": [
       "['edit', 'them', 'depending', 'quality', 'finally,']"
      ]
     },
     "execution_count": 153,
     "metadata": {},
     "output_type": "execute_result"
    }
   ],
   "source": [
    "sample_rdd.take(5)"
   ]
  },
  {
   "cell_type": "code",
   "execution_count": null,
   "metadata": {},
   "outputs": [],
   "source": []
  }
 ],
 "metadata": {
  "kernelspec": {
   "display_name": "Python 3",
   "language": "python",
   "name": "python3"
  },
  "language_info": {
   "codemirror_mode": {
    "name": "ipython",
    "version": 3
   },
   "file_extension": ".py",
   "mimetype": "text/x-python",
   "name": "python",
   "nbconvert_exporter": "python",
   "pygments_lexer": "ipython3",
   "version": "3.7.1"
  }
 },
 "nbformat": 4,
 "nbformat_minor": 2
}
