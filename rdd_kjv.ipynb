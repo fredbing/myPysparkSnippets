{
 "cells": [
  {
   "cell_type": "markdown",
   "metadata": {},
   "source": [
    "### This project demonstrates text file processing and analysis using RDD. The text file used in this example is King James Version Bible"
   ]
  },
  {
   "cell_type": "code",
   "execution_count": 66,
   "metadata": {},
   "outputs": [],
   "source": [
    "import re"
   ]
  },
  {
   "cell_type": "code",
   "execution_count": 67,
   "metadata": {},
   "outputs": [
    {
     "data": {
      "text/plain": [
       "32423"
      ]
     },
     "execution_count": 67,
     "metadata": {},
     "output_type": "execute_result"
    }
   ],
   "source": [
    "k = sc.textFile(\"/Users/binggangliu/Downloads/Bible/kjv/KJV_c.txt\", minPartitions=4)\n",
    "k.count()"
   ]
  },
  {
   "cell_type": "code",
   "execution_count": 69,
   "metadata": {},
   "outputs": [
    {
     "data": {
      "text/plain": [
       "['',\n",
       " 'Genesis',\n",
       " '',\n",
       " 'Gen.1:1 In the beginning God created the heaven and the earth.',\n",
       " 'Gen.1:2 And the earth was without form, and void; and darkness was upon the face of the deep. And the Spirit of God moved upon the face of the waters.']"
      ]
     },
     "execution_count": 69,
     "metadata": {},
     "output_type": "execute_result"
    }
   ],
   "source": [
    "k.take(5)"
   ]
  },
  {
   "cell_type": "markdown",
   "metadata": {},
   "source": [
    "#### Remove empty lines"
   ]
  },
  {
   "cell_type": "code",
   "execution_count": 70,
   "metadata": {},
   "outputs": [],
   "source": [
    "\n",
    "k1 = k.filter(lambda x: x != '')"
   ]
  },
  {
   "cell_type": "code",
   "execution_count": 71,
   "metadata": {},
   "outputs": [
    {
     "data": {
      "text/plain": [
       "['Genesis',\n",
       " 'Gen.1:1 In the beginning God created the heaven and the earth.',\n",
       " 'Gen.1:2 And the earth was without form, and void; and darkness was upon the face of the deep. And the Spirit of God moved upon the face of the waters.',\n",
       " 'Gen.1:3 And God said, Let there be light: and there was light.',\n",
       " 'Gen.1:4 And God saw the light, that it was good: and God divided the light from the darkness.']"
      ]
     },
     "execution_count": 71,
     "metadata": {},
     "output_type": "execute_result"
    }
   ],
   "source": [
    "k1.take(5)"
   ]
  },
  {
   "cell_type": "markdown",
   "metadata": {},
   "source": [
    "Total number of lines:"
   ]
  },
  {
   "cell_type": "code",
   "execution_count": 72,
   "metadata": {},
   "outputs": [
    {
     "data": {
      "text/plain": [
       "31168"
      ]
     },
     "execution_count": 72,
     "metadata": {},
     "output_type": "execute_result"
    }
   ],
   "source": [
    "k1.count()"
   ]
  },
  {
   "cell_type": "markdown",
   "metadata": {},
   "source": [
    "#### Mapping with splitting"
   ]
  },
  {
   "cell_type": "code",
   "execution_count": 73,
   "metadata": {},
   "outputs": [],
   "source": [
    "def split(lines):\n",
    "    lines = lines.split()\n",
    "    return lines\n",
    "\n",
    "k1_split = k1.map(split)"
   ]
  },
  {
   "cell_type": "code",
   "execution_count": 593,
   "metadata": {},
   "outputs": [],
   "source": [
    "#k1_split.take(3)"
   ]
  },
  {
   "cell_type": "code",
   "execution_count": 75,
   "metadata": {},
   "outputs": [
    {
     "data": {
      "text/plain": [
       "31168"
      ]
     },
     "execution_count": 75,
     "metadata": {},
     "output_type": "execute_result"
    }
   ],
   "source": [
    "k1_split.count()"
   ]
  },
  {
   "cell_type": "markdown",
   "metadata": {},
   "source": [
    "since map() function does one-to-one mapping, total number of lines are still the same"
   ]
  },
  {
   "cell_type": "code",
   "execution_count": 76,
   "metadata": {},
   "outputs": [],
   "source": [
    "k1_split_flat = k1.flatMap(split)"
   ]
  },
  {
   "cell_type": "code",
   "execution_count": 594,
   "metadata": {},
   "outputs": [],
   "source": [
    "#k1_split_flat.take(15)"
   ]
  },
  {
   "cell_type": "markdown",
   "metadata": {},
   "source": [
    "flatMap() does one-to-many mapping and hence each word is made a indepenent line"
   ]
  },
  {
   "cell_type": "code",
   "execution_count": 381,
   "metadata": {},
   "outputs": [
    {
     "data": {
      "text/plain": [
       "823800"
      ]
     },
     "execution_count": 381,
     "metadata": {},
     "output_type": "execute_result"
    }
   ],
   "source": [
    "k1_split_flat.count()"
   ]
  },
  {
   "cell_type": "markdown",
   "metadata": {},
   "source": [
    "#### Delete the extra words (the title of each section or each verse)"
   ]
  },
  {
   "cell_type": "code",
   "execution_count": null,
   "metadata": {},
   "outputs": [],
   "source": [
    "#pattern = re.compile(r'\\.(\\d|\\d\\d|\\d\\d\\d):')\n",
    "#kjv = k1_lower.filter(lambda x: pattern.search in x)"
   ]
  },
  {
   "cell_type": "markdown",
   "metadata": {},
   "source": [
    "The above approach needs to be improved in order to work properly"
   ]
  },
  {
   "cell_type": "code",
   "execution_count": 545,
   "metadata": {},
   "outputs": [],
   "source": [
    "def find_extra(word):\n",
    "    pattern = re.compile(r'\\.(\\d|\\d\\d|\\d\\d\\d):')\n",
    "    match = pattern.findall(word)\n",
    "    if match:\n",
    "        return word"
   ]
  },
  {
   "cell_type": "code",
   "execution_count": 546,
   "metadata": {},
   "outputs": [],
   "source": [
    "kjv_titles = k1_split_flat.filter(lambda x: find_extra(x))"
   ]
  },
  {
   "cell_type": "code",
   "execution_count": 915,
   "metadata": {},
   "outputs": [
    {
     "data": {
      "text/plain": [
       "['Gen.1:1', 'Gen.1:2', 'Gen.1:3', 'Gen.1:4', 'Gen.1:5']"
      ]
     },
     "execution_count": 915,
     "metadata": {},
     "output_type": "execute_result"
    }
   ],
   "source": [
    "kjv_titles.take(5)"
   ]
  },
  {
   "cell_type": "markdown",
   "metadata": {},
   "source": [
    "Total number of sections (verses):"
   ]
  },
  {
   "cell_type": "code",
   "execution_count": 548,
   "metadata": {},
   "outputs": [
    {
     "data": {
      "text/plain": [
       "31102"
      ]
     },
     "execution_count": 548,
     "metadata": {},
     "output_type": "execute_result"
    }
   ],
   "source": [
    "kjv_titles.count()"
   ]
  },
  {
   "cell_type": "markdown",
   "metadata": {},
   "source": [
    "#### All the extra words (titles for sections or verses) in the Bible have been removed at this point"
   ]
  },
  {
   "cell_type": "code",
   "execution_count": 386,
   "metadata": {},
   "outputs": [],
   "source": [
    "kjv = k1_split_flat.filter(lambda x: not find_extra(x))"
   ]
  },
  {
   "cell_type": "code",
   "execution_count": 954,
   "metadata": {},
   "outputs": [
    {
     "data": {
      "text/plain": [
       "['Genesis', 'In', 'the', 'beginning', 'God']"
      ]
     },
     "execution_count": 954,
     "metadata": {},
     "output_type": "execute_result"
    }
   ],
   "source": [
    "kjv.take(5)"
   ]
  },
  {
   "cell_type": "code",
   "execution_count": 388,
   "metadata": {},
   "outputs": [
    {
     "data": {
      "text/plain": [
       "792698"
      ]
     },
     "execution_count": 388,
     "metadata": {},
     "output_type": "execute_result"
    }
   ],
   "source": [
    "kjv.count()"
   ]
  },
  {
   "cell_type": "code",
   "execution_count": 335,
   "metadata": {},
   "outputs": [],
   "source": [
    "#counts = kjv.map(lambda word: (word, 1)).reduceByKey(lambda a,b: a+b)"
   ]
  },
  {
   "cell_type": "code",
   "execution_count": 955,
   "metadata": {},
   "outputs": [],
   "source": [
    "#counts.take(10)"
   ]
  },
  {
   "cell_type": "code",
   "execution_count": 389,
   "metadata": {},
   "outputs": [],
   "source": [
    "kjv_grouped = kjv.map(lambda x: (x,1)).groupByKey()\n",
    "word_frequency = kjv_grouped.mapValues(sum).map(lambda x: (x[1],x[0])).sortByKey(False)\n"
   ]
  },
  {
   "cell_type": "code",
   "execution_count": 957,
   "metadata": {},
   "outputs": [
    {
     "data": {
      "text/plain": [
       "[(62058, 'the'), (38578, 'and'), (34391, 'of'), (13369, 'to'), (12736, 'And')]"
      ]
     },
     "execution_count": 957,
     "metadata": {},
     "output_type": "execute_result"
    }
   ],
   "source": [
    "word_frequency.take(5)"
   ]
  },
  {
   "cell_type": "code",
   "execution_count": 591,
   "metadata": {},
   "outputs": [],
   "source": [
    "word_frequency.coalesce(1).saveAsTextFile(\"/Users/binggangliu/Downloads/Bible/kjv/wordFrequencyOutput.txt\")"
   ]
  },
  {
   "cell_type": "markdown",
   "metadata": {},
   "source": [
    "#### Remove the punctuations"
   ]
  },
  {
   "cell_type": "markdown",
   "metadata": {},
   "source": [
    "Now it needs to remove the punctuations, including the independent ones (already splitted), and the punctuations as a part of a word, including those at end of some words, such as  [, | . | : | ; | ? | ! |'| ( | 's| ] ,   and those in the beginning of a word, such as [ ' | ( ]."
   ]
  },
  {
   "cell_type": "code",
   "execution_count": 958,
   "metadata": {},
   "outputs": [],
   "source": [
    "\"\"\"\"\n",
    "def remove_punc(word):\n",
    "    pattern = re.compile(r'\\w(\\.|,|;|:|\\?|\\'|\\'s|\\)|!)')\n",
    "    matches = pattern.finditer(word)\n",
    "    for match in matches:\n",
    "        if word[-1] == 's':\n",
    "            word = word[:-2]        \n",
    "        else:\n",
    "            word = word[:-1]\n",
    "        return word\n",
    "\"\"\"\""
   ]
  },
  {
   "cell_type": "code",
   "execution_count": 979,
   "metadata": {},
   "outputs": [],
   "source": [
    "#kjv_test = kjv.map(lambda x: remove_punc(x) if x.find(r'\\w(\\.|,|;|:|\\?|\\'|\\'s|\\)|!)') else x) "
   ]
  },
  {
   "cell_type": "markdown",
   "metadata": {},
   "source": [
    "The snippet above needs to be improved in order to work properly. Also, it will still need to define another function to remove puctuations at the start of words, including ' and ("
   ]
  },
  {
   "cell_type": "code",
   "execution_count": 981,
   "metadata": {},
   "outputs": [],
   "source": [
    "#kjv_test.take(15)"
   ]
  },
  {
   "cell_type": "code",
   "execution_count": 735,
   "metadata": {},
   "outputs": [],
   "source": [
    "#kjv_rp = kjv.map(lambda x: x.replace(r'\\w(\\.|,|;|:|\\?|\\'|\\'s|\\)|!)', '')) #replace() method does not work either"
   ]
  },
  {
   "cell_type": "markdown",
   "metadata": {},
   "source": [
    "The approach down below approved to be a more effective and easier way to do, and it works!"
   ]
  },
  {
   "cell_type": "code",
   "execution_count": 886,
   "metadata": {},
   "outputs": [],
   "source": [
    "kjv_rp = kjv.map(lambda x: x[:-1] if x.endswith('.') or x.endswith(',') or x.endswith(';') or x.endswith(':') or x.endswith('?') or x.endswith('!') or x.endswith(')') or x.endswith('\\'') else x)"
   ]
  },
  {
   "cell_type": "code",
   "execution_count": 887,
   "metadata": {},
   "outputs": [],
   "source": [
    "pcs_test1 = kjv_rp.filter(lambda x: x.endswith('\\''))"
   ]
  },
  {
   "cell_type": "code",
   "execution_count": 982,
   "metadata": {},
   "outputs": [],
   "source": [
    "#pcs_test1.take(3)"
   ]
  },
  {
   "cell_type": "code",
   "execution_count": 983,
   "metadata": {},
   "outputs": [],
   "source": [
    "#pcs_test1.count()"
   ]
  },
  {
   "cell_type": "code",
   "execution_count": 890,
   "metadata": {},
   "outputs": [],
   "source": [
    "kjv_rp2 = kjv_rp.map(lambda x: x[:-1] if x.endswith('.') or x.endswith(',') or x.endswith(';') or x.endswith(':') or x.endswith('?') or x.endswith('!') or x.endswith(')') or x.endswith('\\'') else x)"
   ]
  },
  {
   "cell_type": "markdown",
   "metadata": {},
   "source": [
    "Running the above code a second time because there is an extra white space after the punctuations at end of some words"
   ]
  },
  {
   "cell_type": "code",
   "execution_count": 891,
   "metadata": {},
   "outputs": [],
   "source": [
    "pcs_test2 = kjv_rp2.filter(lambda x: x.endswith('.'))"
   ]
  },
  {
   "cell_type": "code",
   "execution_count": 951,
   "metadata": {},
   "outputs": [],
   "source": [
    "#pcs_test2.take(3)"
   ]
  },
  {
   "cell_type": "code",
   "execution_count": 940,
   "metadata": {},
   "outputs": [],
   "source": [
    "pcs_find = kjv_rp2.filter(lambda x: x.startswith('('))"
   ]
  },
  {
   "cell_type": "code",
   "execution_count": 949,
   "metadata": {},
   "outputs": [],
   "source": [
    "#pcs_find.count()"
   ]
  },
  {
   "cell_type": "code",
   "execution_count": 950,
   "metadata": {},
   "outputs": [],
   "source": [
    "#pcs_find.take(1)"
   ]
  },
  {
   "cell_type": "code",
   "execution_count": 896,
   "metadata": {},
   "outputs": [],
   "source": [
    "kjv_rp3 = kjv_rp2.map(lambda x: x[:-2] if x.endswith('\\'s') else x)"
   ]
  },
  {
   "cell_type": "code",
   "execution_count": 897,
   "metadata": {},
   "outputs": [],
   "source": [
    "pcs_test3 = kjv_rp3.filter(lambda x: x.endswith('\\'s'))"
   ]
  },
  {
   "cell_type": "code",
   "execution_count": 952,
   "metadata": {},
   "outputs": [],
   "source": [
    "#pcs_test3.count()"
   ]
  },
  {
   "cell_type": "code",
   "execution_count": 899,
   "metadata": {},
   "outputs": [],
   "source": [
    "pcs_find = kjv_rp3.filter(lambda x: x.startswith('\\''))"
   ]
  },
  {
   "cell_type": "code",
   "execution_count": 953,
   "metadata": {},
   "outputs": [],
   "source": [
    "#pcs_find.count()"
   ]
  },
  {
   "cell_type": "code",
   "execution_count": 901,
   "metadata": {},
   "outputs": [],
   "source": [
    "kjv_rp4 = kjv_rp3.map(lambda x: x[1:] if x.startswith('\\'') or x.startswith('(') else x)"
   ]
  },
  {
   "cell_type": "code",
   "execution_count": 902,
   "metadata": {},
   "outputs": [],
   "source": [
    "pcs_test4 = kjv_rp4.filter(lambda x: x.endswith('!'))"
   ]
  },
  {
   "cell_type": "code",
   "execution_count": 903,
   "metadata": {},
   "outputs": [
    {
     "data": {
      "text/plain": [
       "0"
      ]
     },
     "execution_count": 903,
     "metadata": {},
     "output_type": "execute_result"
    }
   ],
   "source": [
    "pcs_test4.count()"
   ]
  },
  {
   "cell_type": "code",
   "execution_count": 904,
   "metadata": {},
   "outputs": [
    {
     "data": {
      "text/plain": [
       "['Genesis']"
      ]
     },
     "execution_count": 904,
     "metadata": {},
     "output_type": "execute_result"
    }
   ],
   "source": [
    "kjv_rp4.take(1)"
   ]
  },
  {
   "cell_type": "markdown",
   "metadata": {},
   "source": [
    "Remove empty strings generated during transformation esp during the punctuation removal process"
   ]
  },
  {
   "cell_type": "code",
   "execution_count": 907,
   "metadata": {},
   "outputs": [],
   "source": [
    "kjv_f = kjv_rp4.filter(lambda x: x != '')"
   ]
  },
  {
   "cell_type": "markdown",
   "metadata": {},
   "source": [
    "Total number of distinct words: "
   ]
  },
  {
   "cell_type": "code",
   "execution_count": 920,
   "metadata": {},
   "outputs": [
    {
     "data": {
      "text/plain": [
       "13540"
      ]
     },
     "execution_count": 920,
     "metadata": {},
     "output_type": "execute_result"
    }
   ],
   "source": [
    "kjv_f.distinct().count()"
   ]
  },
  {
   "cell_type": "markdown",
   "metadata": {},
   "source": [
    "Total number of words:"
   ]
  },
  {
   "cell_type": "code",
   "execution_count": 922,
   "metadata": {},
   "outputs": [
    {
     "data": {
      "text/plain": [
       "789721"
      ]
     },
     "execution_count": 922,
     "metadata": {},
     "output_type": "execute_result"
    }
   ],
   "source": [
    "kjv_f.count()"
   ]
  },
  {
   "cell_type": "code",
   "execution_count": 912,
   "metadata": {},
   "outputs": [],
   "source": [
    "kjv_f_grouped = kjv_f.map(lambda x: (x,1)).groupByKey()\n",
    "word_freq = kjv_f_grouped.mapValues(sum).map(lambda x: (x[1],x[0])).sortByKey(False)"
   ]
  },
  {
   "cell_type": "code",
   "execution_count": 924,
   "metadata": {},
   "outputs": [
    {
     "data": {
      "text/plain": [
       "[(62064, 'the'), (38850, 'and'), (34426, 'of'), (13382, 'to'), (12847, 'And')]"
      ]
     },
     "execution_count": 924,
     "metadata": {},
     "output_type": "execute_result"
    }
   ],
   "source": [
    "word_freq.take(5)"
   ]
  },
  {
   "cell_type": "code",
   "execution_count": 914,
   "metadata": {},
   "outputs": [],
   "source": [
    "word_freq.coalesce(1).saveAsTextFile(\"/Users/binggangliu/Downloads/Bible/kjv/wordFreq4Output.txt\")"
   ]
  },
  {
   "cell_type": "markdown",
   "metadata": {},
   "source": [
    "#### Convert all words to lower case except for 'God', 'Lord', and 'Jesus'."
   ]
  },
  {
   "cell_type": "code",
   "execution_count": 925,
   "metadata": {},
   "outputs": [],
   "source": [
    "kjv_pl = kjv_f.map(lambda x: x.lower() if x not in ['God', 'Lord', 'Jesus'] else x) "
   ]
  },
  {
   "cell_type": "code",
   "execution_count": 984,
   "metadata": {},
   "outputs": [],
   "source": [
    "#kjv_pl.take(10)"
   ]
  },
  {
   "cell_type": "code",
   "execution_count": 942,
   "metadata": {},
   "outputs": [],
   "source": [
    "kjv_pl_grouped = kjv_pl.map(lambda x: (x,1)).groupByKey()\n",
    "word_freq = kjv_pl_grouped.mapValues(sum).map(lambda x: (x[1],x[0])).sortByKey(False)"
   ]
  },
  {
   "cell_type": "code",
   "execution_count": 943,
   "metadata": {},
   "outputs": [],
   "source": [
    "word_freq.coalesce(1).saveAsTextFile(\"/Users/binggangliu/Downloads/Bible/kjv/wordFreqPartialLower.txt\")"
   ]
  },
  {
   "cell_type": "code",
   "execution_count": 985,
   "metadata": {},
   "outputs": [],
   "source": [
    "kjv_pl_grouped = kjv_pl.map(lambda x: (x,1)).groupByKey()\n",
    "word_freq = kjv_pl_grouped.mapValues(sum).map(lambda x: (x[0],x[1])).sortByKey(True)"
   ]
  },
  {
   "cell_type": "code",
   "execution_count": 986,
   "metadata": {},
   "outputs": [],
   "source": [
    "word_freq.coalesce(1).saveAsTextFile(\"/Users/binggangliu/Downloads/Bible/kjv/wordFreqPartialLowerSortedByKey.txt\")"
   ]
  },
  {
   "cell_type": "markdown",
   "metadata": {},
   "source": [
    "#### All words in lower case"
   ]
  },
  {
   "cell_type": "code",
   "execution_count": 944,
   "metadata": {},
   "outputs": [],
   "source": [
    "kjv_l = kjv_f.map(lambda x: x.lower()) "
   ]
  },
  {
   "cell_type": "code",
   "execution_count": 945,
   "metadata": {},
   "outputs": [],
   "source": [
    "kjv_l_grouped = kjv_l.map(lambda x: (x,1)).groupByKey()\n",
    "word_freq = kjv_l_grouped.mapValues(sum).map(lambda x: (x[1],x[0])).sortByKey(False)"
   ]
  },
  {
   "cell_type": "markdown",
   "metadata": {},
   "source": [
    "Word occurance counting is output and saved as a txt file in local drive"
   ]
  },
  {
   "cell_type": "code",
   "execution_count": 946,
   "metadata": {},
   "outputs": [],
   "source": [
    "word_freq.coalesce(1).saveAsTextFile(\"/Users/binggangliu/Downloads/Bible/kjv/wordFreqAllLower.txt\")"
   ]
  },
  {
   "cell_type": "code",
   "execution_count": null,
   "metadata": {},
   "outputs": [],
   "source": []
  }
 ],
 "metadata": {
  "kernelspec": {
   "display_name": "Python 3",
   "language": "python",
   "name": "python3"
  },
  "language_info": {
   "codemirror_mode": {
    "name": "ipython",
    "version": 3
   },
   "file_extension": ".py",
   "mimetype": "text/x-python",
   "name": "python",
   "nbconvert_exporter": "python",
   "pygments_lexer": "ipython3",
   "version": "3.7.1"
  }
 },
 "nbformat": 4,
 "nbformat_minor": 2
}
