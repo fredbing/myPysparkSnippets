{
 "cells": [
  {
   "cell_type": "markdown",
   "metadata": {},
   "source": [
    "### Example of RDD toDF with both built-in functions and a UDF"
   ]
  },
  {
   "cell_type": "markdown",
   "metadata": {},
   "source": [
    "use sc.parallelize() to create rdd, convert to DF and define a UDF for DF operation"
   ]
  },
  {
   "cell_type": "code",
   "execution_count": 2,
   "metadata": {},
   "outputs": [],
   "source": [
    "from pyspark.sql import functions as fc\n",
    "from pyspark.sql import types as tp"
   ]
  },
  {
   "cell_type": "code",
   "execution_count": 3,
   "metadata": {},
   "outputs": [],
   "source": [
    "r = sc.parallelize([[1, 'Y'], [1, 'U'], [1, 'N'], [1, 'Y'], [1, 'U'], [1, 'N'],\n",
    "                   [2, 'U'], [2, 'U'], [2, 'U']]).toDF(['key', 'value'])\n"
   ]
  },
  {
   "cell_type": "code",
   "execution_count": 4,
   "metadata": {},
   "outputs": [
    {
     "name": "stdout",
     "output_type": "stream",
     "text": [
      "+---+-----+\n",
      "|key|value|\n",
      "+---+-----+\n",
      "|  1|    Y|\n",
      "|  1|    U|\n",
      "|  1|    N|\n",
      "|  1|    Y|\n",
      "|  1|    U|\n",
      "|  1|    N|\n",
      "|  2|    U|\n",
      "|  2|    U|\n",
      "|  2|    U|\n",
      "+---+-----+\n",
      "\n"
     ]
    }
   ],
   "source": [
    "r.show()"
   ]
  },
  {
   "cell_type": "code",
   "execution_count": 5,
   "metadata": {},
   "outputs": [],
   "source": [
    "r1 = r.groupBy('key').agg(fc.collect_list('value').alias('val'))"
   ]
  },
  {
   "cell_type": "code",
   "execution_count": 6,
   "metadata": {},
   "outputs": [
    {
     "name": "stdout",
     "output_type": "stream",
     "text": [
      "+---+------------------+\n",
      "|key|               val|\n",
      "+---+------------------+\n",
      "|  1|[Y, U, N, Y, U, N]|\n",
      "|  2|         [U, U, U]|\n",
      "+---+------------------+\n",
      "\n"
     ]
    }
   ],
   "source": [
    "r1.show()"
   ]
  },
  {
   "cell_type": "markdown",
   "metadata": {},
   "source": [
    "Below shows an example of defining a UDF to count the occurences of letter 'Y' in the lists(though this can be easily done without a UDF)"
   ]
  },
  {
   "cell_type": "code",
   "execution_count": 10,
   "metadata": {},
   "outputs": [],
   "source": [
    "def num_Y(x):\n",
    "    #count the occurences of 'Y' in a list\n",
    "    count = 0\n",
    "    for l in x:\n",
    "        if l == 'Y':\n",
    "            count += 1\n",
    "    return count\n",
    "\n",
    "num_Y_udf = fc.udf(num_Y, tp.IntegerType())\n",
    "\n",
    "r2 = r.groupBy('key').agg(num_Y_udf(fc.collect_list('value')).alias('num_Y'))\n",
    "    "
   ]
  },
  {
   "cell_type": "code",
   "execution_count": 11,
   "metadata": {},
   "outputs": [
    {
     "name": "stdout",
     "output_type": "stream",
     "text": [
      "+---+-----+\n",
      "|key|num_Y|\n",
      "+---+-----+\n",
      "|  1|    2|\n",
      "|  2|    0|\n",
      "+---+-----+\n",
      "\n"
     ]
    }
   ],
   "source": [
    "r2.show()"
   ]
  },
  {
   "cell_type": "markdown",
   "metadata": {},
   "source": [
    "Now create a dataframe with one more column"
   ]
  },
  {
   "cell_type": "code",
   "execution_count": 14,
   "metadata": {},
   "outputs": [],
   "source": [
    "d = sc.parallelize([[1, 101, 'Y'], [1, 101, 'U'], [1, 102, 'N'], [1, 103, 'Y'], [1, 103, 'U'], [1, 104, 'N'],\n",
    "                   [2, 201, 'U'], [2, 202, 'U'], [2, 203, 'U'], [2, 204, 'Y']]).toDF(['key', 'value1', 'value2'])"
   ]
  },
  {
   "cell_type": "code",
   "execution_count": 15,
   "metadata": {},
   "outputs": [
    {
     "name": "stdout",
     "output_type": "stream",
     "text": [
      "+---+------+------+\n",
      "|key|value1|value2|\n",
      "+---+------+------+\n",
      "|  1|   101|     Y|\n",
      "|  1|   101|     U|\n",
      "|  1|   102|     N|\n",
      "|  1|   103|     Y|\n",
      "|  1|   103|     U|\n",
      "|  1|   104|     N|\n",
      "|  2|   201|     U|\n",
      "|  2|   202|     U|\n",
      "|  2|   203|     U|\n",
      "|  2|   204|     Y|\n",
      "+---+------+------+\n",
      "\n"
     ]
    }
   ],
   "source": [
    "d.show()"
   ]
  },
  {
   "cell_type": "markdown",
   "metadata": {},
   "source": [
    "Below when() method is used for case of value1 == 101"
   ]
  },
  {
   "cell_type": "code",
   "execution_count": 16,
   "metadata": {},
   "outputs": [],
   "source": [
    "d1 = d.groupBy('key').agg(num_Y_udf(fc.collect_list(fc.when(fc.col('value1')==101, fc.col('value2')))).alias('num_Y'))"
   ]
  },
  {
   "cell_type": "code",
   "execution_count": 17,
   "metadata": {},
   "outputs": [
    {
     "name": "stdout",
     "output_type": "stream",
     "text": [
      "+---+-----+\n",
      "|key|num_Y|\n",
      "+---+-----+\n",
      "|  1|    1|\n",
      "|  2|    0|\n",
      "+---+-----+\n",
      "\n"
     ]
    }
   ],
   "source": [
    "d1.show()"
   ]
  }
 ],
 "metadata": {
  "kernelspec": {
   "display_name": "Python 3",
   "language": "python",
   "name": "python3"
  },
  "language_info": {
   "codemirror_mode": {
    "name": "ipython",
    "version": 3
   },
   "file_extension": ".py",
   "mimetype": "text/x-python",
   "name": "python",
   "nbconvert_exporter": "python",
   "pygments_lexer": "ipython3",
   "version": "3.7.1"
  }
 },
 "nbformat": 4,
 "nbformat_minor": 2
}
