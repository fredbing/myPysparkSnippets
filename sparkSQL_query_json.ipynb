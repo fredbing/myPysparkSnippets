{
 "cells": [
  {
   "cell_type": "markdown",
   "metadata": {},
   "source": [
    "### Processing and Querying JSON files with Spark SQL "
   ]
  },
  {
   "cell_type": "markdown",
   "metadata": {},
   "source": [
    "Generally JSON files are difficulty to analyze. \n",
    "The challanges are mainly in defining a schema, maintaining the schema, and in accessing fields of the JSON dataset."
   ]
  },
  {
   "cell_type": "markdown",
   "metadata": {},
   "source": [
    "JSON is supported in Spark so that one can work with fresh data without the need of mandatory ETL process, the schema can be automatically inferred without the need to define the schema, and one can easily get access to the fields of a complex structure with queries and without the need of building many UDF's. "
   ]
  },
  {
   "cell_type": "markdown",
   "metadata": {},
   "source": [
    "json files can be loaded with spark.read.json() or sqlContext.read.json() methods"
   ]
  },
  {
   "cell_type": "code",
   "execution_count": 3,
   "metadata": {},
   "outputs": [],
   "source": [
    "from pyspark.sql import SparkSession\n",
    "from pyspark.sql.types import *\n",
    "sqlContext = SQLContext(sc)"
   ]
  },
  {
   "cell_type": "code",
   "execution_count": 5,
   "metadata": {},
   "outputs": [],
   "source": [
    "dfj = sqlContext.read.json(\"/Users/binggangliu/Downloads/copa.json\")"
   ]
  },
  {
   "cell_type": "markdown",
   "metadata": {},
   "source": [
    "Schema is automatically inferred"
   ]
  },
  {
   "cell_type": "code",
   "execution_count": 77,
   "metadata": {},
   "outputs": [],
   "source": [
    "# dfj.dtypes"
   ]
  },
  {
   "cell_type": "code",
   "execution_count": 78,
   "metadata": {},
   "outputs": [],
   "source": [
    "# dfj.show()"
   ]
  },
  {
   "cell_type": "code",
   "execution_count": 8,
   "metadata": {},
   "outputs": [
    {
     "name": "stdout",
     "output_type": "stream",
     "text": [
      "root\n",
      " |-- attribution: string (nullable = true)\n",
      " |-- attributionLink: string (nullable = true)\n",
      " |-- averageRating: long (nullable = true)\n",
      " |-- category: string (nullable = true)\n",
      " |-- columns: array (nullable = true)\n",
      " |    |-- element: struct (containsNull = true)\n",
      " |    |    |-- cachedContents: struct (nullable = true)\n",
      " |    |    |    |-- average: string (nullable = true)\n",
      " |    |    |    |-- cardinality: string (nullable = true)\n",
      " |    |    |    |-- largest: string (nullable = true)\n",
      " |    |    |    |-- non_null: long (nullable = true)\n",
      " |    |    |    |-- not_null: string (nullable = true)\n",
      " |    |    |    |-- null: string (nullable = true)\n",
      " |    |    |    |-- smallest: string (nullable = true)\n",
      " |    |    |    |-- sum: string (nullable = true)\n",
      " |    |    |    |-- top: array (nullable = true)\n",
      " |    |    |    |    |-- element: struct (containsNull = true)\n",
      " |    |    |    |    |    |-- count: string (nullable = true)\n",
      " |    |    |    |    |    |-- item: string (nullable = true)\n",
      " |    |    |-- dataTypeName: string (nullable = true)\n",
      " |    |    |-- description: string (nullable = true)\n",
      " |    |    |-- fieldName: string (nullable = true)\n",
      " |    |    |-- format: struct (nullable = true)\n",
      " |    |    |    |-- aggregate: string (nullable = true)\n",
      " |    |    |    |-- align: string (nullable = true)\n",
      " |    |    |    |-- decimalSeparator: string (nullable = true)\n",
      " |    |    |    |-- groupSeparator: string (nullable = true)\n",
      " |    |    |    |-- noCommas: string (nullable = true)\n",
      " |    |    |    |-- precisionStyle: string (nullable = true)\n",
      " |    |    |-- id: long (nullable = true)\n",
      " |    |    |-- name: string (nullable = true)\n",
      " |    |    |-- position: long (nullable = true)\n",
      " |    |    |-- renderTypeName: string (nullable = true)\n",
      " |    |    |-- tableColumnId: long (nullable = true)\n",
      " |    |    |-- width: long (nullable = true)\n",
      " |-- createdAt: long (nullable = true)\n",
      " |-- description: string (nullable = true)\n",
      " |-- displayType: string (nullable = true)\n",
      " |-- downloadCount: long (nullable = true)\n",
      " |-- flags: array (nullable = true)\n",
      " |    |-- element: string (containsNull = true)\n",
      " |-- grants: array (nullable = true)\n",
      " |    |-- element: struct (containsNull = true)\n",
      " |    |    |-- flags: array (nullable = true)\n",
      " |    |    |    |-- element: string (containsNull = true)\n",
      " |    |    |-- inherited: boolean (nullable = true)\n",
      " |    |    |-- type: string (nullable = true)\n",
      " |-- hideFromCatalog: boolean (nullable = true)\n",
      " |-- hideFromDataJson: boolean (nullable = true)\n",
      " |-- id: string (nullable = true)\n",
      " |-- indexUpdatedAt: long (nullable = true)\n",
      " |-- locale: string (nullable = true)\n",
      " |-- metadata: struct (nullable = true)\n",
      " |    |-- availableDisplayTypes: array (nullable = true)\n",
      " |    |    |-- element: string (containsNull = true)\n",
      " |    |-- custom_fields: struct (nullable = true)\n",
      " |    |    |-- Metadata: struct (nullable = true)\n",
      " |    |    |    |-- Data Owner: string (nullable = true)\n",
      " |    |    |    |-- Time Period: string (nullable = true)\n",
      " |    |-- filterCondition: struct (nullable = true)\n",
      " |    |    |-- children: array (nullable = true)\n",
      " |    |    |    |-- element: struct (containsNull = true)\n",
      " |    |    |    |    |-- metadata: struct (nullable = true)\n",
      " |    |    |    |    |    |-- customValues: array (nullable = true)\n",
      " |    |    |    |    |    |    |-- element: array (containsNull = true)\n",
      " |    |    |    |    |    |    |    |-- element: string (containsNull = true)\n",
      " |    |    |    |    |    |-- includeAuto: long (nullable = true)\n",
      " |    |    |    |    |    |-- operator: string (nullable = true)\n",
      " |    |    |    |    |    |-- tableColumnId: struct (nullable = true)\n",
      " |    |    |    |    |    |    |-- 14448659: long (nullable = true)\n",
      " |    |    |    |    |-- type: string (nullable = true)\n",
      " |    |    |    |    |-- value: string (nullable = true)\n",
      " |    |    |-- metadata: struct (nullable = true)\n",
      " |    |    |    |-- advanced: boolean (nullable = true)\n",
      " |    |    |    |-- unifiedVersion: long (nullable = true)\n",
      " |    |    |-- type: string (nullable = true)\n",
      " |    |    |-- value: string (nullable = true)\n",
      " |    |-- jsonQuery: struct (nullable = true)\n",
      " |    |    |-- order: array (nullable = true)\n",
      " |    |    |    |-- element: struct (containsNull = true)\n",
      " |    |    |    |    |-- ascending: boolean (nullable = true)\n",
      " |    |    |    |    |-- columnFieldName: string (nullable = true)\n",
      " |    |-- rdfSubject: string (nullable = true)\n",
      " |    |-- renderTypeConfig: struct (nullable = true)\n",
      " |    |    |-- visible: struct (nullable = true)\n",
      " |    |    |    |-- table: boolean (nullable = true)\n",
      " |    |-- rowLabel: string (nullable = true)\n",
      " |-- name: string (nullable = true)\n",
      " |-- newBackend: boolean (nullable = true)\n",
      " |-- numberOfComments: long (nullable = true)\n",
      " |-- oid: long (nullable = true)\n",
      " |-- owner: struct (nullable = true)\n",
      " |    |-- displayName: string (nullable = true)\n",
      " |    |-- flags: array (nullable = true)\n",
      " |    |    |-- element: string (containsNull = true)\n",
      " |    |-- id: string (nullable = true)\n",
      " |    |-- screenName: string (nullable = true)\n",
      " |    |-- type: string (nullable = true)\n",
      " |-- provenance: string (nullable = true)\n",
      " |-- publicationAppendEnabled: boolean (nullable = true)\n",
      " |-- publicationDate: long (nullable = true)\n",
      " |-- publicationGroup: long (nullable = true)\n",
      " |-- publicationStage: string (nullable = true)\n",
      " |-- query: struct (nullable = true)\n",
      " |    |-- orderBys: array (nullable = true)\n",
      " |    |    |-- element: struct (containsNull = true)\n",
      " |    |    |    |-- ascending: boolean (nullable = true)\n",
      " |    |    |    |-- expression: struct (nullable = true)\n",
      " |    |    |    |    |-- columnId: long (nullable = true)\n",
      " |    |    |    |    |-- type: string (nullable = true)\n",
      " |-- rights: array (nullable = true)\n",
      " |    |-- element: string (containsNull = true)\n",
      " |-- rowsUpdatedAt: long (nullable = true)\n",
      " |-- rowsUpdatedBy: string (nullable = true)\n",
      " |-- tableAuthor: struct (nullable = true)\n",
      " |    |-- displayName: string (nullable = true)\n",
      " |    |-- flags: array (nullable = true)\n",
      " |    |    |-- element: string (containsNull = true)\n",
      " |    |-- id: string (nullable = true)\n",
      " |    |-- screenName: string (nullable = true)\n",
      " |    |-- type: string (nullable = true)\n",
      " |-- tableId: long (nullable = true)\n",
      " |-- tags: array (nullable = true)\n",
      " |    |-- element: string (containsNull = true)\n",
      " |-- totalTimesRated: long (nullable = true)\n",
      " |-- viewCount: long (nullable = true)\n",
      " |-- viewLastModified: long (nullable = true)\n",
      " |-- viewType: string (nullable = true)\n",
      "\n"
     ]
    }
   ],
   "source": [
    "dfj.printSchema()"
   ]
  },
  {
   "cell_type": "code",
   "execution_count": 9,
   "metadata": {},
   "outputs": [],
   "source": [
    "dfj.registerTempTable(\"td\")"
   ]
  },
  {
   "cell_type": "code",
   "execution_count": 54,
   "metadata": {},
   "outputs": [],
   "source": [
    "attribution = sqlContext.sql(\"select attribution from td\")"
   ]
  },
  {
   "cell_type": "code",
   "execution_count": 55,
   "metadata": {},
   "outputs": [
    {
     "name": "stdout",
     "output_type": "stream",
     "text": [
      "+---------------+\n",
      "|    attribution|\n",
      "+---------------+\n",
      "|City of Chicago|\n",
      "+---------------+\n",
      "\n"
     ]
    }
   ],
   "source": [
    "attribution.show()"
   ]
  },
  {
   "cell_type": "code",
   "execution_count": null,
   "metadata": {},
   "outputs": [],
   "source": []
  },
  {
   "cell_type": "code",
   "execution_count": 43,
   "metadata": {},
   "outputs": [],
   "source": [
    "id = sqlContext.sql(\"select id from td\")"
   ]
  },
  {
   "cell_type": "code",
   "execution_count": 29,
   "metadata": {},
   "outputs": [
    {
     "name": "stdout",
     "output_type": "stream",
     "text": [
      "+---------+\n",
      "|       id|\n",
      "+---------+\n",
      "|mft5-nfa8|\n",
      "+---------+\n",
      "\n"
     ]
    }
   ],
   "source": [
    "id.show()"
   ]
  },
  {
   "cell_type": "code",
   "execution_count": 44,
   "metadata": {},
   "outputs": [],
   "source": [
    "description = sqlContext.sql(\"select description from td\")"
   ]
  },
  {
   "cell_type": "code",
   "execution_count": 31,
   "metadata": {},
   "outputs": [
    {
     "name": "stdout",
     "output_type": "stream",
     "text": [
      "+--------------------+\n",
      "|         description|\n",
      "+--------------------+\n",
      "|Complaints receiv...|\n",
      "+--------------------+\n",
      "\n"
     ]
    }
   ],
   "source": [
    "description.show()"
   ]
  },
  {
   "cell_type": "code",
   "execution_count": 45,
   "metadata": {},
   "outputs": [],
   "source": [
    "category = sqlContext.sql(\"select category from td\")"
   ]
  },
  {
   "cell_type": "code",
   "execution_count": 33,
   "metadata": {},
   "outputs": [
    {
     "name": "stdout",
     "output_type": "stream",
     "text": [
      "+-------------+\n",
      "|     category|\n",
      "+-------------+\n",
      "|Public Safety|\n",
      "+-------------+\n",
      "\n"
     ]
    }
   ],
   "source": [
    "category.show()"
   ]
  },
  {
   "cell_type": "code",
   "execution_count": 46,
   "metadata": {},
   "outputs": [],
   "source": [
    "owner = sqlContext.sql(\"select owner from td limit 5\")"
   ]
  },
  {
   "cell_type": "code",
   "execution_count": 47,
   "metadata": {},
   "outputs": [
    {
     "name": "stdout",
     "output_type": "stream",
     "text": [
      "+--------------------+\n",
      "|               owner|\n",
      "+--------------------+\n",
      "|[Jonathan Levy, [...|\n",
      "+--------------------+\n",
      "\n"
     ]
    }
   ],
   "source": [
    "owner.show()"
   ]
  },
  {
   "cell_type": "code",
   "execution_count": 51,
   "metadata": {},
   "outputs": [],
   "source": [
    "info_owner = sqlContext.sql(\"select owner.id, owner.screenName, owner.type from td\")"
   ]
  },
  {
   "cell_type": "markdown",
   "metadata": {},
   "source": [
    "Using dot '.' to access to the next layer of the data structure (e.g. owner.id)"
   ]
  },
  {
   "cell_type": "code",
   "execution_count": 52,
   "metadata": {},
   "outputs": [
    {
     "name": "stdout",
     "output_type": "stream",
     "text": [
      "+---------+-------------+-----------+\n",
      "|       id|   screenName|       type|\n",
      "+---------+-------------+-----------+\n",
      "|vewm-vupz|Jonathan Levy|interactive|\n",
      "+---------+-------------+-----------+\n",
      "\n"
     ]
    }
   ],
   "source": [
    "info_owner.show()"
   ]
  },
  {
   "cell_type": "code",
   "execution_count": 50,
   "metadata": {},
   "outputs": [],
   "source": [
    "info_tableAuthor = sqlContext.sql(\"select tableAuthor.flags from td\")"
   ]
  },
  {
   "cell_type": "code",
   "execution_count": 40,
   "metadata": {},
   "outputs": [
    {
     "name": "stdout",
     "output_type": "stream",
     "text": [
      "+--------------------+\n",
      "|               flags|\n",
      "+--------------------+\n",
      "|[mayBeStoriesCoOw...|\n",
      "+--------------------+\n",
      "\n"
     ]
    }
   ],
   "source": [
    "info_tableAuthor.show()"
   ]
  },
  {
   "cell_type": "code",
   "execution_count": 62,
   "metadata": {},
   "outputs": [],
   "source": [
    "columns = sqlContext.sql(\"select columns from td\")"
   ]
  },
  {
   "cell_type": "code",
   "execution_count": 63,
   "metadata": {},
   "outputs": [
    {
     "name": "stdout",
     "output_type": "stream",
     "text": [
      "+--------------------+\n",
      "|             columns|\n",
      "+--------------------+\n",
      "|[[[1051076.442097...|\n",
      "+--------------------+\n",
      "\n"
     ]
    }
   ],
   "source": [
    "columns.show()"
   ]
  },
  {
   "cell_type": "code",
   "execution_count": 64,
   "metadata": {},
   "outputs": [],
   "source": [
    "metadata = sqlContext.sql(\"select metadata from td\")"
   ]
  },
  {
   "cell_type": "code",
   "execution_count": 65,
   "metadata": {},
   "outputs": [
    {
     "name": "stdout",
     "output_type": "stream",
     "text": [
      "+--------------------+\n",
      "|            metadata|\n",
      "+--------------------+\n",
      "|[[table, fatrow, ...|\n",
      "+--------------------+\n",
      "\n"
     ]
    }
   ],
   "source": [
    "metadata.show()"
   ]
  },
  {
   "cell_type": "markdown",
   "metadata": {},
   "source": [
    "Access to the sub-sub-layer with two dots, e.g., metadata.filterCondition.type"
   ]
  },
  {
   "cell_type": "code",
   "execution_count": 96,
   "metadata": {},
   "outputs": [],
   "source": [
    "info_metadata = sqlContext.sql(\"select metadata.filterCondition.type from td\")"
   ]
  },
  {
   "cell_type": "code",
   "execution_count": 97,
   "metadata": {},
   "outputs": [
    {
     "name": "stdout",
     "output_type": "stream",
     "text": [
      "+--------+\n",
      "|    type|\n",
      "+--------+\n",
      "|operator|\n",
      "+--------+\n",
      "\n"
     ]
    }
   ],
   "source": [
    "info_metadata.show()"
   ]
  },
  {
   "cell_type": "markdown",
   "metadata": {},
   "source": [
    "Separate one column (e.g. 'owner') into multiple independent columns, in this way the inner structure of the element can be exposed just under the root"
   ]
  },
  {
   "cell_type": "code",
   "execution_count": 84,
   "metadata": {},
   "outputs": [],
   "source": [
    "dfj_c = dfj.withColumn(\"o_displayName\", dfj.owner.displayName).withColumn(\"o_flags\", dfj.owner.flags).withColumn(\"o_id\", dfj.owner.id).withColumn(\"o_screenName\", dfj.owner.screenName).withColumn(\"o_type\", dfj.owner.type).drop(dfj.owner)"
   ]
  },
  {
   "cell_type": "code",
   "execution_count": 87,
   "metadata": {},
   "outputs": [
    {
     "name": "stdout",
     "output_type": "stream",
     "text": [
      "+---------------+--------------------+-------------+-------------+--------------------+----------+--------------------+-----------+-------------+--------------------+--------------------+---------------+----------------+---------+--------------+------+--------------------+--------------------+----------+----------------+--------+----------+------------------------+---------------+----------------+----------------+--------------------+------+-------------+-------------+--------------------+--------+--------------------+---------------+---------+----------------+--------+-------------+--------------------+---------+-------------+-----------+\n",
      "|    attribution|     attributionLink|averageRating|     category|             columns| createdAt|         description|displayType|downloadCount|               flags|              grants|hideFromCatalog|hideFromDataJson|       id|indexUpdatedAt|locale|            metadata|                name|newBackend|numberOfComments|     oid|provenance|publicationAppendEnabled|publicationDate|publicationGroup|publicationStage|               query|rights|rowsUpdatedAt|rowsUpdatedBy|         tableAuthor| tableId|                tags|totalTimesRated|viewCount|viewLastModified|viewType|o_displayName|             o_flags|     o_id| o_screenName|     o_type|\n",
      "+---------------+--------------------+-------------+-------------+--------------------+----------+--------------------+-----------+-------------+--------------------+--------------------+---------------+----------------+---------+--------------+------+--------------------+--------------------+----------+----------------+--------+----------+------------------------+---------------+----------------+----------------+--------------------+------+-------------+-------------+--------------------+--------+--------------------+---------------+---------+----------------+--------+-------------+--------------------+---------+-------------+-----------+\n",
      "|City of Chicago|https://www.cityo...|            0|Public Safety|[[[1051076.442097...|1504805002|Complaints receiv...|      table|          762|[default, restora...|[[[public], false...|          false|           false|mft5-nfa8|    1548657616| en_US|[[table, fatrow, ...|COPA Cases - Summary|      true|               0|28368996|  official|                   false|     1522864608|        14448659|       published|[[[false, [352894...|[read]|   1561959610|    n9j5-zhen|[Jonathan Levy, [...|14979541|[copa, ipra, poli...|              0|     9850|      1522864608| tabular|Jonathan Levy|[mayBeStoriesCoOw...|vewm-vupz|Jonathan Levy|interactive|\n",
      "+---------------+--------------------+-------------+-------------+--------------------+----------+--------------------+-----------+-------------+--------------------+--------------------+---------------+----------------+---------+--------------+------+--------------------+--------------------+----------+----------------+--------+----------+------------------------+---------------+----------------+----------------+--------------------+------+-------------+-------------+--------------------+--------+--------------------+---------------+---------+----------------+--------+-------------+--------------------+---------+-------------+-----------+\n",
      "\n"
     ]
    }
   ],
   "source": [
    "dfj_c.show(8)"
   ]
  },
  {
   "cell_type": "code",
   "execution_count": 90,
   "metadata": {},
   "outputs": [],
   "source": [
    "dfj_c.registerTempTable(\"td_c\")"
   ]
  },
  {
   "cell_type": "code",
   "execution_count": 91,
   "metadata": {},
   "outputs": [],
   "source": [
    "o_id = sqlContext.sql(\"select o_id from td_c\")"
   ]
  },
  {
   "cell_type": "code",
   "execution_count": 92,
   "metadata": {},
   "outputs": [
    {
     "name": "stdout",
     "output_type": "stream",
     "text": [
      "+---------+\n",
      "|     o_id|\n",
      "+---------+\n",
      "|vewm-vupz|\n",
      "+---------+\n",
      "\n"
     ]
    }
   ],
   "source": [
    "o_id.show()"
   ]
  },
  {
   "cell_type": "code",
   "execution_count": 94,
   "metadata": {},
   "outputs": [],
   "source": [
    "o_flags = sqlContext.sql(\"select o_flags from td_c\")"
   ]
  },
  {
   "cell_type": "code",
   "execution_count": 95,
   "metadata": {},
   "outputs": [
    {
     "name": "stdout",
     "output_type": "stream",
     "text": [
      "+--------------------+\n",
      "|             o_flags|\n",
      "+--------------------+\n",
      "|[mayBeStoriesCoOw...|\n",
      "+--------------------+\n",
      "\n"
     ]
    }
   ],
   "source": [
    "o_flags.show()"
   ]
  }
 ],
 "metadata": {
  "kernelspec": {
   "display_name": "Python 3",
   "language": "python",
   "name": "python3"
  },
  "language_info": {
   "codemirror_mode": {
    "name": "ipython",
    "version": 3
   },
   "file_extension": ".py",
   "mimetype": "text/x-python",
   "name": "python",
   "nbconvert_exporter": "python",
   "pygments_lexer": "ipython3",
   "version": "3.7.1"
  }
 },
 "nbformat": 4,
 "nbformat_minor": 2
}
